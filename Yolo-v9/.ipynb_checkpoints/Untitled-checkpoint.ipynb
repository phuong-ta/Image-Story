{
 "cells": [
  {
   "cell_type": "code",
   "execution_count": null,
   "id": "c195a242-f382-4f33-89f1-230ee709f31f",
   "metadata": {},
   "outputs": [],
   "source": [
    "# import llama helper function\n",
    "from utils import llama\n",
    "\n",
    "# define the prompt\n",
    "prompt = \"Help me write a birthday card for my dear friend Andrew.\""
   ]
  }
 ],
 "metadata": {
  "kernelspec": {
   "display_name": "Python 3 (ipykernel)",
   "language": "python",
   "name": "python3"
  },
  "language_info": {
   "codemirror_mode": {
    "name": "ipython",
    "version": 3
   },
   "file_extension": ".py",
   "mimetype": "text/x-python",
   "name": "python",
   "nbconvert_exporter": "python",
   "pygments_lexer": "ipython3",
   "version": "3.9.19"
  }
 },
 "nbformat": 4,
 "nbformat_minor": 5
}
